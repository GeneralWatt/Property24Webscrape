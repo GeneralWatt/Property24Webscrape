{
 "cells": [
  {
   "cell_type": "code",
   "execution_count": 1,
   "id": "1b041cf5",
   "metadata": {},
   "outputs": [],
   "source": [
    "from bs4 import BeautifulSoup\n",
    "import requests\n",
    "import csv"
   ]
  },
  {
   "cell_type": "code",
   "execution_count": 2,
   "id": "dca7b623",
   "metadata": {},
   "outputs": [],
   "source": [
    "# set up variables\n",
    "base_url = 'https://www.property24.com/for-sale/somerset-west/western-cape/390/p'\n",
    "num_pages = 50"
   ]
  },
  {
   "cell_type": "code",
   "execution_count": null,
   "id": "67fbc2f8",
   "metadata": {},
   "outputs": [],
   "source": [
    "#Get data from webpage\n",
    "url = base_url + str(1)\n",
    "page = requests.get(url)\n",
    "\n",
    "#extract data from w\n",
    "soup = BeautifulSoup(page.content, 'html.parser')\n",
    "\n",
    "# find all relevant elements\n",
    "lists = soup.find_all('span', class_='p24_content')"
   ]
  },
  {
   "cell_type": "code",
   "execution_count": 37,
   "id": "4e102096",
   "metadata": {},
   "outputs": [
    {
     "name": "stdout",
     "output_type": "stream",
     "text": [
      "Scraping complete!\n"
     ]
    }
   ],
   "source": [
    "# open csv file for writing\n",
    "with open('housing.csv', 'w', encoding='utf8', newline='') as f:\n",
    "    writer = csv.writer(f)\n",
    "    header = ['Title', 'Price', 'Information', 'Description']\n",
    "    writer.writerow(header)\n",
    "\n",
    "    # loop over each page and scrape data\n",
    "    for page_num in range(1, num_pages + 1):\n",
    "        # construct page URL\n",
    "        url = base_url + str(page_num)\n",
    "\n",
    "        # retrieve page content\n",
    "        page = requests.get(url)\n",
    "        soup = BeautifulSoup(page.content, 'html.parser')\n",
    "\n",
    "        # find all relevant elements\n",
    "        lists = soup.find_all('span', class_='p24_content')\n",
    "\n",
    "        # loop over each element and extract data\n",
    "        for lst in lists:\n",
    "            title = lst.find('span', class_='p24_title').text.replace('\\n', '')\n",
    "            price = lst.find('span', class_='p24_price').text.replace('\\n', '').replace('\\r', '')\n",
    "            information = lst.find('span', class_='p24_location').text.replace('\\n', '').replace('\\r', '')\n",
    "            description = lst.find('span', class_='p24_excerpt').text.replace('\\n', '').replace('\\r', '')\n",
    "            info = [title, price, information, description]\n",
    "            writer.writerow(info)\n",
    "\n",
    "print('Scraping complete!')"
   ]
  },
  {
   "cell_type": "code",
   "execution_count": null,
   "id": "1f6a001f",
   "metadata": {},
   "outputs": [],
   "source": [
    "Beau"
   ]
  }
 ],
 "metadata": {
  "kernelspec": {
   "display_name": "Python 3 (ipykernel)",
   "language": "python",
   "name": "python3"
  },
  "language_info": {
   "codemirror_mode": {
    "name": "ipython",
    "version": 3
   },
   "file_extension": ".py",
   "mimetype": "text/x-python",
   "name": "python",
   "nbconvert_exporter": "python",
   "pygments_lexer": "ipython3",
   "version": "3.9.7"
  }
 },
 "nbformat": 4,
 "nbformat_minor": 5
}
