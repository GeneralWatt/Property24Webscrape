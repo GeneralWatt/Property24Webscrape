{
 "cells": [
  {
   "cell_type": "code",
   "execution_count": 15,
   "id": "1b041cf5",
   "metadata": {},
   "outputs": [],
   "source": [
    "from bs4 import BeautifulSoup\n",
    "import requests\n",
    "import csv"
   ]
  },
  {
   "cell_type": "code",
   "execution_count": 48,
   "id": "dca7b623",
   "metadata": {},
   "outputs": [],
   "source": [
    "# set up variables\n",
    "base_url = 'https://www.property24.com/for-sale/somerset-west/western-cape/390/p'\n",
    "num_pages = 5"
   ]
  },
  {
   "cell_type": "code",
   "execution_count": 20,
   "id": "bc1bdb7d",
   "metadata": {},
   "outputs": [],
   "source": [
    "#Get data from webpage\n",
    "url = base_url + str(2)\n",
    "page = requests.get(url)\n",
    "\n",
    "#extract data from webpage using Beautiful Soup\n",
    "soup = BeautifulSoup(page.content, 'html.parser')\n",
    "\n",
    "# find all relevant elements\n",
    "lists = soup.find_all('span', class_='p24_content')"
   ]
  },
  {
   "cell_type": "code",
   "execution_count": 30,
   "id": "c8a9cec0",
   "metadata": {},
   "outputs": [
    {
     "name": "stdout",
     "output_type": "stream",
     "text": [
      "3 Bedroom House\n"
     ]
    }
   ],
   "source": [
    "title = lists[0].find('span', class_='p24_title').text.replace('\\n', '')\n",
    "print(title)"
   ]
  },
  {
   "cell_type": "code",
   "execution_count": 43,
   "id": "21c38e19",
   "metadata": {},
   "outputs": [
    {
     "name": "stdout",
     "output_type": "stream",
     "text": [
      "R4425000\n"
     ]
    }
   ],
   "source": [
    "price = lists[0].find('span', class_='p24_price').text.replace('\\n', '').replace('\\r', '').replace(' ', '')\n",
    "print(price)"
   ]
  },
  {
   "cell_type": "code",
   "execution_count": 42,
   "id": "5f71f9cf",
   "metadata": {},
   "outputs": [
    {
     "name": "stdout",
     "output_type": "stream",
     "text": [
      "Heldervue\n"
     ]
    }
   ],
   "source": [
    "location = lists[0].find('span', class_='p24_location').text.replace('\\n', '').replace('\\r', '')\n",
    "print(location)"
   ]
  },
  {
   "cell_type": "code",
   "execution_count": 39,
   "id": "eb5faa41",
   "metadata": {},
   "outputs": [
    {
     "name": "stdout",
     "output_type": "stream",
     "text": [
      "3\n"
     ]
    }
   ],
   "source": [
    "beds = lists[0].find('span',class_='p24_featureDetails',title='Bedrooms').text.replace('\\n', '')\n",
    "print(beds)"
   ]
  },
  {
   "cell_type": "code",
   "execution_count": 40,
   "id": "0f508ac2",
   "metadata": {},
   "outputs": [
    {
     "name": "stdout",
     "output_type": "stream",
     "text": [
      "2.5\n"
     ]
    }
   ],
   "source": [
    "bathrooms = lists[0].find('span',class_='p24_featureDetails',title='Bathrooms').text.replace('\\n', '')\n",
    "print(bathrooms)"
   ]
  },
  {
   "cell_type": "code",
   "execution_count": 46,
   "id": "be82aa92",
   "metadata": {},
   "outputs": [
    {
     "name": "stdout",
     "output_type": "stream",
     "text": [
      "4\n"
     ]
    }
   ],
   "source": [
    "parking = lists[0].find('span',class_='p24_featureDetails',title='Parking Spaces').text.replace('\\n', '')\n",
    "print(parking)"
   ]
  },
  {
   "cell_type": "code",
   "execution_count": 54,
   "id": "26563846",
   "metadata": {},
   "outputs": [
    {
     "name": "stdout",
     "output_type": "stream",
     "text": [
      "1 005 m²\n"
     ]
    }
   ],
   "source": [
    "size = lists[0].find('span',class_='p24_size').text.replace('\\n', '')\n",
    "print(size)"
   ]
  },
  {
   "cell_type": "markdown",
   "id": "67d4870c",
   "metadata": {},
   "source": [
    "**Final Code**"
   ]
  },
  {
   "cell_type": "code",
   "execution_count": 52,
   "id": "4e102096",
   "metadata": {},
   "outputs": [
    {
     "name": "stdout",
     "output_type": "stream",
     "text": [
      "Downloading Page number: 1\n",
      "Page number 1 download complete\n",
      "0 properties found for page 1\n",
      "\n",
      "Downloading Page number: 2\n",
      "Page number 2 download complete\n",
      "12 properties found for page 2\n",
      "\n",
      "Downloading Page number: 3\n",
      "Page number 3 download complete\n",
      "17 properties found for page 3\n",
      "\n",
      "Downloading Page number: 4\n",
      "Page number 4 download complete\n",
      "19 properties found for page 4\n",
      "\n",
      "Downloading Page number: 5\n",
      "Page number 5 download complete\n",
      "21 properties found for page 5\n",
      "\n",
      "Scraping complete!\n"
     ]
    }
   ],
   "source": [
    "# source\n",
    "base_url = 'https://www.property24.com/for-sale/somerset-west/western-cape/390/p'\n",
    "\n",
    "#number of pages\n",
    "num_pages = 5\n",
    "\n",
    "# open csv file for writing\n",
    "with open('housing.csv', 'w', encoding='utf8', newline='') as f:\n",
    "    writer = csv.writer(f)\n",
    "    header = ['Title','Price','Location','Bedrooms','Bathrooms','Parking','Size','Description']\n",
    "    writer.writerow(header)\n",
    "\n",
    "    # loop over each page and scrape data\n",
    "    for page_num in range(1, num_pages + 1):\n",
    "        # construct page URL\n",
    "        url = base_url + str(page_num)\n",
    "        \n",
    "\n",
    "        # retrieve page content\n",
    "        page = requests.get(url)\n",
    "        print(\"Downloading Page number:\",page_num)\n",
    "        \n",
    "        soup = BeautifulSoup(page.content, 'html.parser')\n",
    "        print(\"Page number\",page_num,\"download complete\")\n",
    "\n",
    "        # find all relevant elements\n",
    "        properties = soup.find_all('span', class_='p24_content')\n",
    "        print(len(properties),\"properties found for page\", page_num)\n",
    "        \n",
    "        print(\"\")\n",
    "\n",
    "        # loop over each element and extract data\n",
    "        for prop in properties:\n",
    "            title = prop.find('span', class_='p24_title').text.replace('\\n', '')\n",
    "            price = prop.find('span', class_='p24_price').text.replace('\\n', '').replace('\\r', '')\n",
    "            \n",
    "            #Area\n",
    "            location = prop.find('span', class_='p24_location').text.replace('\\n', '').replace('\\r', '')\n",
    "            \n",
    "            #bedrooms\n",
    "            try:\n",
    "                beds = prop.find('span',class_='p24_featureDetails',title='Bedrooms').text.replace('\\n', '')\n",
    "            except:\n",
    "                beds = 0\n",
    "                \n",
    "            #bathrooms\n",
    "            try:\n",
    "                bathrooms = prop.find('span',class_='p24_featureDetails',title='Bathrooms').text.replace('\\n', '')\n",
    "            except:\n",
    "                bathrooms = 0\n",
    "                \n",
    "            #get parking\n",
    "            try:\n",
    "                parking = prop.find('span',class_='p24_featureDetails',title='Parking Spaces').text.replace('\\n', '')\n",
    "            except:\n",
    "                parking = 0\n",
    "                \n",
    "            #get size\n",
    "            try\n",
    "                size = lists[0].find('span',class_='p24_size').text.replace('\\n', '')\n",
    "            except:\n",
    "                size = 0\n",
    "                \n",
    "            #description\n",
    "            description = prop.find('span', class_='p24_excerpt').text.replace('\\n', '').replace('\\r', '')\n",
    "            \n",
    "            #Write to file\n",
    "            info = [title,price,location,beds,bathrooms,parking,size,description]\n",
    "            writer.writerow(info)\n",
    "\n",
    "print('Scraping complete!')"
   ]
  },
  {
   "cell_type": "code",
   "execution_count": null,
   "id": "913fe821",
   "metadata": {},
   "outputs": [],
   "source": []
  },
  {
   "cell_type": "code",
   "execution_count": null,
   "id": "1f6a001f",
   "metadata": {},
   "outputs": [],
   "source": []
  },
  {
   "cell_type": "code",
   "execution_count": null,
   "id": "334541ec",
   "metadata": {},
   "outputs": [],
   "source": []
  }
 ],
 "metadata": {
  "kernelspec": {
   "display_name": "Python 3 (ipykernel)",
   "language": "python",
   "name": "python3"
  },
  "language_info": {
   "codemirror_mode": {
    "name": "ipython",
    "version": 3
   },
   "file_extension": ".py",
   "mimetype": "text/x-python",
   "name": "python",
   "nbconvert_exporter": "python",
   "pygments_lexer": "ipython3",
   "version": "3.9.7"
  }
 },
 "nbformat": 4,
 "nbformat_minor": 5
}
